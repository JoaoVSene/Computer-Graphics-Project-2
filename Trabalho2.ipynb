{
 "cells": [
  {
   "cell_type": "markdown",
   "metadata": {},
   "source": [
    "# Trabalho 2 - Computação Gráfica\n",
    "## Cenário 3D\n",
    "---\n",
    "**Professor**: Alaor Cervati Neto\n",
    "\n",
    "**Alunos**: \n",
    "- Adrio Oliveira Alves - 11796830\n",
    "- Gabriel Freitas Ximenes de Vasconcelos - 11819084\n",
    "- João Victor Sene Araújo - 11796382\n",
    "- Raíssa Torres Barreira - 11796336\n",
    "- Thiago Henrique Santos Cardoso - 11796594\n",
    "- Victor Paulo Cruz Lutes - 11795512"
   ]
  },
  {
   "cell_type": "markdown",
   "metadata": {},
   "source": [
    "Bibliotecas Utilizadas no trabalho:"
   ]
  },
  {
   "cell_type": "code",
   "execution_count": 1,
   "metadata": {},
   "outputs": [],
   "source": [
    "import glfw\n",
    "from OpenGL.GL import *\n",
    "import OpenGL.GL.shaders\n",
    "import numpy as np\n",
    "import glm\n",
    "import math\n",
    "from PIL import Image"
   ]
  },
  {
   "cell_type": "markdown",
   "metadata": {},
   "source": [
    "### Inicializando janela"
   ]
  },
  {
   "cell_type": "code",
   "execution_count": 2,
   "metadata": {},
   "outputs": [],
   "source": [
    "glfw.init()\n",
    "glfw.window_hint(glfw.VISIBLE, glfw.FALSE);\n",
    "largura = 1600\n",
    "altura = 1000\n",
    "window = glfw.create_window(largura, altura, \"Cenário 3D\", None, None)\n",
    "glfw.make_context_current(window)"
   ]
  },
  {
   "cell_type": "markdown",
   "metadata": {},
   "source": [
    "### GLSL para *Vertex Shader*\n",
    "No Pipeline programável, podemos interagir com *Vertex Shaders*.\n",
    "\n",
    "No código abaixo, estamos fazendo o seguinte:\n",
    "* Definindo uma variável chamada `position` do tipo `vec3`.\n",
    "* Definindo uma variável chamada `texture_coord` do tipo `vec2`.\n",
    "* Definindo uma variável chamada `normals` do tipo `vec3`.\n",
    "* Definindo uma variável de saída `out_texture` do tipo `vec2`.\n",
    "* Definindo uma variável de saída `out_fragPos` do tipo `vec3`.\n",
    "* Definindo uma variável de saída `out_normal` do tipo `vec3`.\n",
    "* Definindo matrizes `model`, `view`, e `projection` que acumulam transformações geométricas 3D e permitem navegação no cenário.\n",
    "* `void main()` é o ponto de entrada do nosso programa (função principal).\n",
    "* `gl_Position` é uma variável especial do `GLSL`. Variáveis que começam com `gl_` são desse tipo. Neste caso, determina a posição de um vértice. Observe que todo vértice tem $4$ coordenadas, por isso combinamos nossa variável `vec3` com uma variável `vec4`. Além disso, modificamos nosso vetor com base nas transformações `model`, `view`, e `projection`.\n",
    "* `out_texture` é uma variável que retorna as coordenadas de texturas normalizadas.\n",
    "* `out_fragPos` é uma variável que retorna as coordenadas dos fragmentos (manipuladas pelo usuário).\n",
    "* `out_texture` é uma variável que retorna as coordenadas dos vetores normais (manipuladas pelo usuário)."
   ]
  },
  {
   "cell_type": "code",
   "execution_count": 3,
   "metadata": {},
   "outputs": [],
   "source": [
    "vertex_code = \"\"\"\n",
    "        attribute vec3 position;\n",
    "        attribute vec2 texture_coord;\n",
    "        attribute vec3 normals;\n",
    "        \n",
    "        varying vec2 out_texture;\n",
    "        varying vec3 out_fragPos;\n",
    "        varying vec3 out_normal;\n",
    "                \n",
    "        uniform mat4 model;\n",
    "        uniform mat4 view;\n",
    "        uniform mat4 projection;        \n",
    "        \n",
    "        void main(){\n",
    "            gl_Position = projection * view * model * vec4(position,1.0);\n",
    "            out_texture = vec2(texture_coord);\n",
    "            out_fragPos = vec3(model * vec4(position, 1.0));\n",
    "            out_normal = vec3(model * vec4(normals, 1.0));            \n",
    "        }\n",
    "        \"\"\""
   ]
  },
  {
   "cell_type": "markdown",
   "metadata": {},
   "source": [
    "### GLSL para *Fragment Shader*\n",
    "No Pipeline programável, podemos interagir com *Fragment Shaders*.\n",
    "\n",
    "No código abaixo, estamos fazendo o seguinte:\n",
    "* Definindo uma variável `lightPos`, do tipo `vec3`, que define a posição da fonte de luz.\n",
    "* Definindo uma variável `lightColor`, do tipo `vec3`, para a intensidade da fonte de luz.\n",
    "* Definindo uma variável `viewPos`, do tipo `vec3`, que define a posição do observador.\n",
    "* Definindo as variáves `ka`, `kd`, `ks`, e `ns`, do tipo `float`, coeficientes e expoente de reflexão do objeto.\n",
    "* Definindo as variáveis `out_texture`, `out_normal`, e `out_fragPos`, recebidas do *Vertex Shader*.\n",
    "* Definindo uma variável do tipo `Sampler2D` chamada `samplerTexture`, que receberá os texeis da imagem.\n",
    "* `void main()` é o ponto de entrada do nosso programa (função principal).\n",
    "* `ambient` define a componente da iluminação ambiente do objeto.\n",
    "* `diffuse` define a componente da reflexão difusa do objeto.\n",
    "* `specular` define a componente da reflexão especular do objeto.\n",
    "* `texture` é o resultado da operação de mapeamento das coordenadas de `out_texture` em `samplerTexture`.\n",
    "* `result` é a resultante das componentes de iluminação a ser aplicada sobre a textura.\n",
    "* `gl_FragColor` é uma variável especial do `GLSL`. Variáveis que começam com `gl_` são desse tipo. Neste caso, determina a cor de um fragmento de acordo com os valores de cor de uma imagem afetada pela iluminação."
   ]
  },
  {
   "cell_type": "code",
   "execution_count": 4,
   "metadata": {},
   "outputs": [],
   "source": [
    "fragment_code = \"\"\"\n",
    "\n",
    "        // parametro com a cor da(s) fonte(s) de iluminacao\n",
    "        uniform vec3 lightPos; // define coordenadas de posicao da luz\n",
    "        vec3 lightColor = vec3(5.0, 5.0, 5.0);\n",
    "        \n",
    "        // parametros da iluminacao ambiente e difusa\n",
    "        uniform float ka; // coeficiente de reflexao ambiente\n",
    "        uniform float kd; // coeficiente de reflexao difusa\n",
    "        \n",
    "        // parametros da iluminacao especular\n",
    "        uniform vec3 viewPos; // define coordenadas com a posicao da camera/observador\n",
    "        uniform float ks; // coeficiente de reflexao especular\n",
    "        uniform float ns; // expoente de reflexao especular\n",
    "\n",
    "        // parametros recebidos do vertex shader\n",
    "        varying vec2 out_texture; // recebido do vertex shader\n",
    "        varying vec3 out_normal; // recebido do vertex shader\n",
    "        varying vec3 out_fragPos; // recebido do vertex shader\n",
    "        uniform sampler2D samplerTexture;\n",
    "        \n",
    "        void main(){\n",
    "        \n",
    "            // calculando reflexao ambiente\n",
    "            vec3 ambient = ka * lightColor;             \n",
    "        \n",
    "            // calculando reflexao difusa\n",
    "            vec3 norm = normalize(out_normal); // normaliza vetores perpendiculares\n",
    "            vec3 lightDir = normalize(lightPos - out_fragPos); // direcao da luz\n",
    "            float diff = max(dot(norm, lightDir), 0.0); // verifica limite angular (entre 0 e 90)\n",
    "            vec3 diffuse = kd * diff * lightColor; // iluminacao difusa\n",
    "            \n",
    "            // calculando reflexao especular\n",
    "            vec3 viewDir = normalize(viewPos - out_fragPos); // direcao do observador/camera\n",
    "            vec3 reflectDir = normalize(reflect(-lightDir, norm)); // direcao da reflexao\n",
    "            float spec = pow(max(dot(viewDir, reflectDir), 0.0), ns);\n",
    "            vec3 specular = ks * spec * lightColor;             \n",
    "            \n",
    "            // aplicando o modelo de iluminacao\n",
    "            vec4 texture = texture2D(samplerTexture, out_texture);\n",
    "            vec4 result = vec4((ambient + diffuse + specular),1.0) * texture; // aplica iluminacao\n",
    "            gl_FragColor = result;\n",
    "\n",
    "        }\n",
    "        \"\"\""
   ]
  },
  {
   "cell_type": "markdown",
   "metadata": {},
   "source": [
    "### Requisitando slot para a GPU para nossos programas *Vertex* e *Fragment Shaders*"
   ]
  },
  {
   "cell_type": "code",
   "execution_count": 5,
   "metadata": {},
   "outputs": [],
   "source": [
    "# Request a program and shader slots from GPU\n",
    "program  = glCreateProgram()\n",
    "vertex   = glCreateShader(GL_VERTEX_SHADER)\n",
    "fragment = glCreateShader(GL_FRAGMENT_SHADER)"
   ]
  },
  {
   "cell_type": "markdown",
   "metadata": {},
   "source": [
    "### Associando nosso código-fonte aos slots solicitados"
   ]
  },
  {
   "cell_type": "code",
   "execution_count": 6,
   "metadata": {},
   "outputs": [],
   "source": [
    "# Set shaders source\n",
    "glShaderSource(vertex, vertex_code)\n",
    "glShaderSource(fragment, fragment_code)"
   ]
  },
  {
   "cell_type": "markdown",
   "metadata": {},
   "source": [
    "### Compilando o *Vertex Shader*\n",
    "Exibe erro no Vertex Shader caso ocorra."
   ]
  },
  {
   "cell_type": "code",
   "execution_count": 7,
   "metadata": {},
   "outputs": [],
   "source": [
    "# Compile shaders\n",
    "glCompileShader(vertex)\n",
    "if not glGetShaderiv(vertex, GL_COMPILE_STATUS):\n",
    "    error = glGetShaderInfoLog(vertex).decode()\n",
    "    print(error)\n",
    "    raise RuntimeError(\"Erro de compilacao do Vertex Shader\")"
   ]
  },
  {
   "cell_type": "markdown",
   "metadata": {},
   "source": [
    "### Compilando o *Fragment Shader*\n",
    "Exibe erro no Fragment Shader caso ocorra."
   ]
  },
  {
   "cell_type": "code",
   "execution_count": 8,
   "metadata": {},
   "outputs": [],
   "source": [
    "glCompileShader(fragment)\n",
    "if not glGetShaderiv(fragment, GL_COMPILE_STATUS):\n",
    "    error = glGetShaderInfoLog(fragment).decode()\n",
    "    print(error)\n",
    "    raise RuntimeError(\"Erro de compilacao do Fragment Shader\")"
   ]
  },
  {
   "cell_type": "markdown",
   "metadata": {},
   "source": [
    "### Associando os programas compilados ao programa principal"
   ]
  },
  {
   "cell_type": "code",
   "execution_count": 9,
   "metadata": {},
   "outputs": [],
   "source": [
    "# Attach shader objects to the program\n",
    "glAttachShader(program, vertex)\n",
    "glAttachShader(program, fragment)"
   ]
  },
  {
   "cell_type": "markdown",
   "metadata": {},
   "source": [
    "### Linkagem do programa"
   ]
  },
  {
   "cell_type": "code",
   "execution_count": 10,
   "metadata": {},
   "outputs": [],
   "source": [
    "# Build program\n",
    "glLinkProgram(program)\n",
    "if not glGetProgramiv(program, GL_LINK_STATUS):\n",
    "    print(glGetProgramInfoLog(program))\n",
    "    raise RuntimeError('Linking error')\n",
    "    \n",
    "# Make program the default program\n",
    "glUseProgram(program)"
   ]
  },
  {
   "cell_type": "markdown",
   "metadata": {},
   "source": [
    "### Preparando dados para enviar a GPU\n",
    "Nesse momento, compilamos nossos *Vertex* e *Fragment Shaders* para que a GPU possa processá-los.\n",
    "\n",
    "Por outro lado, as informações de vértices geralmente estão na CPU e devem ser transmitidas para a GPU.\n",
    "### Carregando Modelos (vértices e texturas) a partir de Arquivos\n",
    "A função abaixo carrega modelos a partir de arquivos no formato *WaveFront*.\n",
    "\n",
    "Para saber mais sobre o modelo, acesse: https://en.wikipedia.org/wiki/Wavefront_.obj_file\n",
    "\n",
    "Nos slides, descrevemos o funcionamento desse formato."
   ]
  },
  {
   "cell_type": "code",
   "execution_count": 11,
   "metadata": {},
   "outputs": [],
   "source": [
    "def load_model_from_file(filename):\n",
    "    \"\"\"Loads a Wavefront OBJ file. \"\"\"\n",
    "    objects = {}\n",
    "    vertices = []\n",
    "    normals = []\n",
    "    texture_coords = []\n",
    "    faces = []\n",
    "\n",
    "    material = None\n",
    "\n",
    "    # abre o arquivo obj para leitura\n",
    "    for line in open(filename, \"r\"): ## para cada linha do arquivo .obj\n",
    "        if line.startswith('#'): continue ## ignora comentarios\n",
    "        values = line.split() # quebra a linha por espaço\n",
    "        if not values: continue\n",
    "\n",
    "\n",
    "        ### recuperando vertices\n",
    "        if values[0] == 'v':\n",
    "            vertices.append(values[1:4])\n",
    "\n",
    "        ### recuperando vertices\n",
    "        if values[0] == 'vn':\n",
    "            normals.append(values[1:4])\n",
    "\n",
    "        ### recuperando coordenadas de textura\n",
    "        elif values[0] == 'vt':\n",
    "            texture_coords.append(values[1:3])\n",
    "\n",
    "        ### recuperando faces \n",
    "        elif values[0] in ('usemtl', 'usemat'):\n",
    "            material = values[1]\n",
    "        elif values[0] == 'f':\n",
    "            face = []\n",
    "            face_texture = []\n",
    "            face_normals = []\n",
    "            for v in values[1:]:\n",
    "                w = v.split('/')\n",
    "                face.append(int(w[0]))\n",
    "                face_normals.append(int(w[2]))\n",
    "                if len(w) >= 2 and len(w[1]) > 0:\n",
    "                    face_texture.append(int(w[1]))\n",
    "                else:\n",
    "                    face_texture.append(0)\n",
    "\n",
    "            faces.append((face, face_texture, face_normals, material))\n",
    "\n",
    "    model = {}\n",
    "    model['vertices'] = vertices\n",
    "    model['texture'] = texture_coords\n",
    "    model['faces'] = faces\n",
    "    model['normals'] = normals\n",
    "\n",
    "    return model\n",
    "\n",
    "glEnable(GL_TEXTURE_2D)\n",
    "qtd_texturas = 10\n",
    "textures = glGenTextures(qtd_texturas)\n",
    "\n",
    "def load_texture_from_file(texture_id, img_textura):\n",
    "    glBindTexture(GL_TEXTURE_2D, texture_id)\n",
    "    glTexParameteri(GL_TEXTURE_2D, GL_TEXTURE_WRAP_S, GL_REPEAT)\n",
    "    glTexParameteri(GL_TEXTURE_2D, GL_TEXTURE_WRAP_T, GL_REPEAT)\n",
    "    glTexParameteri(GL_TEXTURE_2D, GL_TEXTURE_MIN_FILTER, GL_LINEAR)\n",
    "    glTexParameteri(GL_TEXTURE_2D, GL_TEXTURE_MAG_FILTER, GL_LINEAR)\n",
    "    img = Image.open(img_textura)\n",
    "    img_width = img.size[0]\n",
    "    img_height = img.size[1]\n",
    "    image_data = img.tobytes(\"raw\", \"RGB\", 0, -1)\n",
    "    #image_data = np.array(list(img.getdata()), np.uint8)\n",
    "    glTexImage2D(GL_TEXTURE_2D, 0, GL_RGB, img_width, img_height, 0, GL_RGB, GL_UNSIGNED_BYTE, image_data)"
   ]
  },
  {
   "cell_type": "markdown",
   "metadata": {},
   "source": [
    "### A lista abaixo armazena todos os vértices carregados dos arquivos"
   ]
  },
  {
   "cell_type": "code",
   "execution_count": 12,
   "metadata": {},
   "outputs": [],
   "source": [
    "vertices_list = []    \n",
    "normals_list = []    \n",
    "textures_coord_list = []"
   ]
  },
  {
   "cell_type": "markdown",
   "metadata": {},
   "source": [
    "### Vamos carregar cada modelo e definir funções para desenhá-los"
   ]
  },
  {
   "cell_type": "code",
   "execution_count": 13,
   "metadata": {},
   "outputs": [],
   "source": [
    "def load_model(model_path, texture_path, texture_id_index):\n",
    "    \"\"\"\n",
    "        Carrega um modelo 3D do tipo .obj que possua todas as faces triângulares e sua respectiva textura\n",
    "        \n",
    "        Parâmetros:\n",
    "            model_path = caminho do modelo 3D\n",
    "            texture_path = caminho da textura do modelo 3D\n",
    "            texture_id_index = id da textura carregada\n",
    "        \n",
    "        Retorno:\n",
    "            Lista com os os componentes:\n",
    "                [\n",
    "                    initial_index = indice do vertice inicial\n",
    "                    final_index = indice do vertice final\n",
    "                    texture_id_index = id da textura carregada\n",
    "                ]\n",
    "    \"\"\"\n",
    "    \n",
    "    modelo = load_model_from_file(model_path)\n",
    "    \n",
    "    initial_index = len(vertices_list)\n",
    "    \n",
    "    # Inserindo vertices do modelo no vetor de vertices\n",
    "    for face in modelo['faces']:\n",
    "        for vertice_id in face[0]:\n",
    "            vertices_list.append( modelo['vertices'][vertice_id-1] )\n",
    "        for texture_id in face[1]:\n",
    "            textures_coord_list.append( modelo['texture'][texture_id-1] )\n",
    "        for normal_id in face[2]:\n",
    "            normals_list.append( modelo['normals'][normal_id-1] )\n",
    "            \n",
    "    final_index = len(vertices_list)\n",
    "    \n",
    "    # Inserindo coordenadas de textura do modelo no vetor de texturas\n",
    "    # Carregando textura equivalente e definindo um id (buffer): use um id por textura!\n",
    "    load_texture_from_file(texture_id_index,texture_path)\n",
    "    \n",
    "    return [initial_index, final_index, texture_id_index]"
   ]
  },
  {
   "cell_type": "markdown",
   "metadata": {},
   "source": [
    "### Agora, vamos abrir os modelos e guardar os dados em uma lista para exibi-los na tela posteriormente"
   ]
  },
  {
   "cell_type": "code",
   "execution_count": 14,
   "metadata": {},
   "outputs": [],
   "source": [
    "texture_next_id = 0\n",
    "models_indexes = []\n",
    "\n",
    "models_indexes.append(load_model('Models/sky.obj', 'Textures/sky.jpg', texture_next_id))\n",
    "texture_next_id += 1\n",
    "\n",
    "models_indexes.append(load_model('Models/sun.obj', 'Textures/sun.png', texture_next_id))\n",
    "texture_next_id += 1\n",
    "\n",
    "models_indexes.append(load_model('Models/dirt.obj', 'Textures/dirt.jpg', texture_next_id))\n",
    "texture_next_id += 1\n",
    "\n",
    "models_indexes.append(load_model('Models/grass.obj', 'Textures/grass.jpg', texture_next_id))\n",
    "texture_next_id += 1\n",
    "\n",
    "models_indexes.append(load_model('Models/house.obj', 'Textures/house.png', texture_next_id))\n",
    "texture_next_id += 1\n",
    "\n",
    "models_indexes.append(load_model('Models/couch.obj', 'Textures/couch.jpg', texture_next_id))\n",
    "texture_next_id += 1\n",
    "\n",
    "models_indexes.append(load_model('Models/table.obj', 'Textures/table.png', texture_next_id))\n",
    "texture_next_id += 1\n",
    "\n",
    "models_indexes.append(load_model('Models/tv.obj', 'Textures/tv.jpg', texture_next_id))\n",
    "texture_next_id += 1\n",
    "\n",
    "models_indexes.append(load_model('Models/fence.obj', 'Textures/fence.jpg', texture_next_id))\n",
    "texture_next_id += 1\n",
    "\n",
    "models_indexes.append(load_model('Models/dog_house.obj', 'Textures/dog_house.jpg', texture_next_id))\n",
    "texture_next_id += 1\n",
    "\n",
    "models_indexes.append(load_model('Models/dachshund.obj', 'Textures/dachshund.png', texture_next_id))\n",
    "texture_next_id += 1"
   ]
  },
  {
   "cell_type": "markdown",
   "metadata": {},
   "source": [
    "### Para enviar nossos dados da CPU para a GPU, precisamos requisitar slots.\n",
    "Agora requisitaremos três slots.\n",
    "* Um para enviar coordenadas dos vértices.\n",
    "* Um para enviar coordenadas de texturas.\n",
    "* Um para enviar coordenadas de normals para iluminação."
   ]
  },
  {
   "cell_type": "code",
   "execution_count": 15,
   "metadata": {},
   "outputs": [],
   "source": [
    "# Request a buffer slot from GPU\n",
    "buffer = glGenBuffers(3)"
   ]
  },
  {
   "cell_type": "markdown",
   "metadata": {},
   "source": [
    "###  Enviando coordenadas de vértices para a GPU"
   ]
  },
  {
   "cell_type": "code",
   "execution_count": 16,
   "metadata": {},
   "outputs": [],
   "source": [
    "vertices = np.zeros(len(vertices_list), [(\"position\", np.float32, 3)])\n",
    "vertices['position'] = vertices_list\n",
    "\n",
    "# Upload data\n",
    "glBindBuffer(GL_ARRAY_BUFFER, buffer[0])\n",
    "glBufferData(GL_ARRAY_BUFFER, vertices.nbytes, vertices, GL_STATIC_DRAW)\n",
    "stride = vertices.strides[0]\n",
    "offset = ctypes.c_void_p(0)\n",
    "loc_vertices = glGetAttribLocation(program, \"position\")\n",
    "glEnableVertexAttribArray(loc_vertices)\n",
    "glVertexAttribPointer(loc_vertices, 3, GL_FLOAT, False, stride, offset)"
   ]
  },
  {
   "cell_type": "markdown",
   "metadata": {},
   "source": [
    "###  Enviando coordenadas de textura para a GPU"
   ]
  },
  {
   "cell_type": "code",
   "execution_count": 17,
   "metadata": {},
   "outputs": [],
   "source": [
    "textures = np.zeros(len(textures_coord_list), [(\"position\", np.float32, 2)]) # duas coordenadas\n",
    "textures['position'] = textures_coord_list\n",
    "\n",
    "# Upload data\n",
    "glBindBuffer(GL_ARRAY_BUFFER, buffer[1])\n",
    "glBufferData(GL_ARRAY_BUFFER, textures.nbytes, textures, GL_STATIC_DRAW)\n",
    "stride = textures.strides[0]\n",
    "offset = ctypes.c_void_p(0)\n",
    "loc_texture_coord = glGetAttribLocation(program, \"texture_coord\")\n",
    "glEnableVertexAttribArray(loc_texture_coord)\n",
    "glVertexAttribPointer(loc_texture_coord, 2, GL_FLOAT, False, stride, offset)"
   ]
  },
  {
   "cell_type": "markdown",
   "metadata": {},
   "source": [
    "###  Enviando dados de Iluminação a GPU\n",
    "#### Dados de iluminação: vetores normais"
   ]
  },
  {
   "cell_type": "code",
   "execution_count": 18,
   "metadata": {},
   "outputs": [],
   "source": [
    "normals = np.zeros(len(normals_list), [(\"position\", np.float32, 3)]) # três coordenadas\n",
    "normals['position'] = normals_list\n",
    "\n",
    "# Upload coordenadas normals de cada vertice\n",
    "glBindBuffer(GL_ARRAY_BUFFER, buffer[2])\n",
    "glBufferData(GL_ARRAY_BUFFER, normals.nbytes, normals, GL_STATIC_DRAW)\n",
    "stride = normals.strides[0]\n",
    "offset = ctypes.c_void_p(0)\n",
    "loc_normals_coord = glGetAttribLocation(program, \"normals\")\n",
    "glEnableVertexAttribArray(loc_normals_coord)\n",
    "glVertexAttribPointer(loc_normals_coord, 3, GL_FLOAT, False, stride, offset)"
   ]
  },
  {
   "cell_type": "markdown",
   "metadata": {},
   "source": [
    "### Desenhando nossos modelos\n",
    "* Cada modelo tem uma *Model* para posicioná-lo no mundo.\n",
    "* É necessário saber qual a posição inicial e total de vértices de cada modelo.\n",
    "* É necessário indicar qual o `id` da textura do modelo."
   ]
  },
  {
   "cell_type": "code",
   "execution_count": 19,
   "metadata": {},
   "outputs": [],
   "source": [
    "def draw_object(model_index, angle, r_x, r_y, r_z, t_x, t_y, t_z, s_x, s_y, s_z, ka=0.1, kd=0.1, ks=0.9, ns=32, emit_light=False):\n",
    "    \"\"\"\n",
    "        Desenha um modelo já carregado, parâmetros de transformações 3D e influência da iluminação\n",
    "        \n",
    "        Parâmetros:\n",
    "            model_index = lista com 3 atributos: initial_index, final_index, texture_id\n",
    "            angle = ângulo de rotação\n",
    "            r_x, r_y, r_z = coordenadas de rotação\n",
    "            t_x, t_y, t_z = coordenadas de translação (posição)\n",
    "            s_x, s_y, s_z = coordenadas de escala\n",
    "            ka = coeficiente de reflexao ambiente do modelo\n",
    "            kd = coeficiente de reflexao difusa do modelo\n",
    "            ks = coeficiente de reflexao especular do modelo\n",
    "            ns = expoente de reflexao especular\n",
    "            emit_light = booleano que indica se o objeto emite luz\n",
    "        \n",
    "        Retorno:\n",
    "            Vazio\n",
    "    \"\"\"\n",
    "    \n",
    "    # Aplica a matriz model\n",
    "    mat_model = model(angle, r_x, r_y, r_z, t_x, t_y, t_z, s_x, s_y, s_z)\n",
    "    loc_model = glGetUniformLocation(program, \"model\")\n",
    "    glUniformMatrix4fv(loc_model, 1, GL_TRUE, mat_model)\n",
    "    \n",
    "    loc_ka = glGetUniformLocation(program, \"ka\") # Recuperando localizacao da variavel ka na GPU\n",
    "    glUniform1f(loc_ka, ka) # Envia ka pra gpu\n",
    "    \n",
    "    loc_kd = glGetUniformLocation(program, \"kd\") # Recuperando localizacao da variavel kd na GPU\n",
    "    glUniform1f(loc_kd, kd) # Envia kd pra gpu    \n",
    "    \n",
    "    loc_ks = glGetUniformLocation(program, \"ks\") # Recuperando localizacao da variavel ks na GPU\n",
    "    glUniform1f(loc_ks, ks) # Envia ks pra gpu        \n",
    "    \n",
    "    loc_ns = glGetUniformLocation(program, \"ns\") # Recuperando localizacao da variavel ns na GPU\n",
    "    glUniform1f(loc_ns, ns) # Envia ns pra gpu\n",
    "    \n",
    "    if (emit_light == True):\n",
    "        loc_light_pos = glGetUniformLocation(program, \"lightPos\") # Recuperando localizacao da variavel lightPos na GPU\n",
    "        glUniform3f(loc_light_pos, t_x, t_y, t_z) # Posicao da fonte de luz\n",
    "    \n",
    "    # Define id da textura do modelo\n",
    "    glBindTexture(GL_TEXTURE_2D, model_index[2])\n",
    "    \n",
    "    # Desenha o modelo\n",
    "    glDrawArrays(GL_TRIANGLES, model_index[0], model_index[1] - model_index[0]) # Renderizando"
   ]
  },
  {
   "cell_type": "markdown",
   "metadata": {},
   "source": [
    "### Eventos para modificar a posição da câmera.\n",
    "* As teclas `A`, `S`, `D`, e `W` são usadas para a movimentação no espaço tridimensional.\n",
    "* `Left Shift` aumenta a velocidade de movimentação, enquanto `Left Ctrl` diminui.\n",
    "* A posição do mouse direciona a câmera.\n",
    "* As setinhas `Esquerda` e `Direita` mudam o parâmetro largura da matriz projection.\n",
    "* As setinhas `Cima` e `Baixo` mudam o parâmetro altura da matriz projection"
   ]
  },
  {
   "cell_type": "code",
   "execution_count": 20,
   "metadata": {},
   "outputs": [],
   "source": [
    "cameraPos   = glm.vec3(0.0,  10.0,  0.0);\n",
    "cameraFront = glm.vec3(0.0,  0.0, -1.0);\n",
    "cameraUp    = glm.vec3(0.0,  1.0,  0.0);\n",
    "cameraSpeed = 0.05\n",
    "\n",
    "polygonal_mode = False\n",
    "\n",
    "def key_event(window,key,scancode,action,mods):\n",
    "    global cameraPos, cameraFront, cameraUp, polygonal_mode\n",
    "    global altura, largura\n",
    "    global cameraSpeed\n",
    "    \n",
    "    if key == 87 and (action==1 or action==2): # tecla W\n",
    "        cameraPos += cameraSpeed * cameraFront\n",
    "    \n",
    "    if key == 83 and (action==1 or action==2): # tecla S\n",
    "        cameraPos -= cameraSpeed * cameraFront\n",
    "    \n",
    "    if key == 65 and (action==1 or action==2): # tecla A\n",
    "        cameraPos -= glm.normalize(glm.cross(cameraFront, cameraUp)) * cameraSpeed\n",
    "        \n",
    "    if key == 68 and (action==1 or action==2): # tecla D\n",
    "        cameraPos += glm.normalize(glm.cross(cameraFront, cameraUp)) * cameraSpeed\n",
    "        \n",
    "    if key == 265 and (action==1 or action==2): # tecla UP\n",
    "        altura += 1    \n",
    "        \n",
    "    if key == 264 and (action==1 or action==2): # tecla DOWN\n",
    "        altura -= 1  \n",
    "        \n",
    "    if key == 262 and (action==1 or action==2): # tecla RIGHT\n",
    "        largura += 1 \n",
    "        \n",
    "    if key == 263 and (action==1 or action==2): # tecla LEFT\n",
    "        largura -= 1 \n",
    "        \n",
    "    if key == 340 and (action==1 or action==2): # tecla Shift\n",
    "        cameraSpeed += 0.05\n",
    "        \n",
    "    if key == 341 and (action==1 or action==2): # tecla Ctrl\n",
    "        cameraSpeed -= 0.05\n",
    "    \n",
    "    if key == 80 and action==1 and polygonal_mode==True:\n",
    "        polygonal_mode=False\n",
    "    else:\n",
    "        if key == 80 and action==1 and polygonal_mode==False:\n",
    "            polygonal_mode=True\n",
    "        \n",
    "firstMouse = True\n",
    "yaw = -90.0 \n",
    "pitch = 0.0\n",
    "lastX =  largura/2\n",
    "lastY =  altura/2\n",
    "\n",
    "def mouse_event(window, xpos, ypos):\n",
    "    global firstMouse, cameraFront, yaw, pitch, lastX, lastY\n",
    "    if firstMouse:\n",
    "        lastX = xpos\n",
    "        lastY = ypos\n",
    "        firstMouse = False\n",
    "\n",
    "    xoffset = xpos - lastX\n",
    "    yoffset = lastY - ypos\n",
    "    lastX = xpos\n",
    "    lastY = ypos\n",
    "\n",
    "    sensitivity = 0.3 \n",
    "    xoffset *= sensitivity\n",
    "    yoffset *= sensitivity\n",
    "\n",
    "    yaw += xoffset;\n",
    "    pitch += yoffset;\n",
    "\n",
    "    if pitch >= 90.0: pitch = 90.0\n",
    "    if pitch <= -90.0: pitch = -90.0\n",
    "\n",
    "    front = glm.vec3()\n",
    "    front.x = math.cos(glm.radians(yaw)) * math.cos(glm.radians(pitch))\n",
    "    front.y = math.sin(glm.radians(pitch))\n",
    "    front.z = math.sin(glm.radians(yaw)) * math.cos(glm.radians(pitch))\n",
    "    cameraFront = glm.normalize(front)\n",
    "    \n",
    "glfw.set_key_callback(window,key_event)\n",
    "glfw.set_cursor_pos_callback(window, mouse_event)\n",
    "glfw.set_input_mode(window, glfw.CURSOR, glfw.CURSOR_DISABLED) # Trava e esconde o mouse na janela"
   ]
  },
  {
   "cell_type": "markdown",
   "metadata": {},
   "source": [
    "### Matrizes *Model*, *View*, e *Projection*\n",
    "Teremos uma aula específica para entender o seu funcionamento."
   ]
  },
  {
   "cell_type": "code",
   "execution_count": 21,
   "metadata": {},
   "outputs": [],
   "source": [
    "def model(angle, r_x, r_y, r_z, t_x, t_y, t_z, s_x, s_y, s_z):\n",
    "    \n",
    "    angle = math.radians(angle)\n",
    "    \n",
    "    matrix_transform = glm.mat4(1.0) # Instanciando uma matriz identidade\n",
    "    \n",
    "    # Aplicando rotacao\n",
    "    matrix_transform = glm.rotate(matrix_transform, angle, glm.vec3(r_x, r_y, r_z))\n",
    "    \n",
    "    # Aplicando translacao\n",
    "    matrix_transform = glm.translate(matrix_transform, glm.vec3(t_x, t_y, t_z))    \n",
    "    \n",
    "    # Aplicando escala\n",
    "    matrix_transform = glm.scale(matrix_transform, glm.vec3(s_x, s_y, s_z))\n",
    "    \n",
    "    matrix_transform = np.array(matrix_transform)\n",
    "    \n",
    "    return matrix_transform\n",
    "\n",
    "def view():\n",
    "    global cameraPos, cameraFront, cameraUp\n",
    "    global cameraSpeed\n",
    "    radius = 19.5\n",
    "    \n",
    "    # Verifica se ultrapassa o domo do ceu\n",
    "    if(cameraPos[0]**2 + cameraPos[1]**2 + cameraPos[2]**2 > radius**2):\n",
    "        if(cameraPos[0]<0.0):\n",
    "            cameraPos[0] += 2*cameraSpeed\n",
    "        else:\n",
    "            cameraPos[0] -= 2*cameraSpeed\n",
    "        \n",
    "        if(cameraPos[1]<0.0):\n",
    "            cameraPos[1] += 2*cameraSpeed\n",
    "        else:\n",
    "            cameraPos[1] -= 2*cameraSpeed\n",
    "            \n",
    "        if(cameraPos[2]<0.0):\n",
    "            cameraPos[2] += 2*cameraSpeed\n",
    "        else:\n",
    "            cameraPos[2] -= 2*cameraSpeed\n",
    "            \n",
    "    # Verifica se ultrapassa o chao\n",
    "    if(cameraPos[1] < 0.35):\n",
    "        cameraPos[1] = 0.35\n",
    "            \n",
    "    mat_view = glm.lookAt(cameraPos, cameraPos + cameraFront, cameraUp);\n",
    "    mat_view = np.array(mat_view)\n",
    "    return mat_view\n",
    "\n",
    "def projection():\n",
    "    global altura, largura\n",
    "    # perspective parameters: fovy, aspect, near, far\n",
    "    mat_projection = glm.perspective(glm.radians(45.0), largura/altura, 0.1, 1000.0)\n",
    "    mat_projection = np.array(mat_projection)    \n",
    "    return mat_projection"
   ]
  },
  {
   "cell_type": "markdown",
   "metadata": {},
   "source": [
    "Nesse momento, exibimos a janela."
   ]
  },
  {
   "cell_type": "code",
   "execution_count": 22,
   "metadata": {},
   "outputs": [],
   "source": [
    "glfw.show_window(window)\n",
    "glfw.set_cursor_pos(window, lastX, lastY)"
   ]
  },
  {
   "cell_type": "markdown",
   "metadata": {},
   "source": [
    "### Loop principal da janela.\n",
    "Enquanto a janela não for fechada, esse laço será executado. É neste espaço que acontecem algumas interações com o `OpenGL`."
   ]
  },
  {
   "cell_type": "code",
   "execution_count": 23,
   "metadata": {},
   "outputs": [],
   "source": [
    "glEnable(GL_DEPTH_TEST) # Importante para 3D\n",
    "   \n",
    "ang = 0.1 # Ângulo de rotação do Sol\n",
    "rotation = 0.0 # Ângulo de rotação do cachorro\n",
    "    \n",
    "while not glfw.window_should_close(window):\n",
    "\n",
    "    glfw.poll_events() \n",
    "    \n",
    "    glClear(GL_COLOR_BUFFER_BIT | GL_DEPTH_BUFFER_BIT)\n",
    "    \n",
    "    glClearColor(0.2, 0.2, 0.2, 1.0)\n",
    "    \n",
    "    if polygonal_mode==True:\n",
    "        glPolygonMode(GL_FRONT_AND_BACK,GL_LINE)\n",
    "    if polygonal_mode==False:\n",
    "        glPolygonMode(GL_FRONT_AND_BACK,GL_FILL)\n",
    "    \n",
    "    \n",
    "    # Desenhando os objetos na janela\n",
    "    \n",
    "    draw_object(models_indexes[0], 0.0, 0.0, 1.0, 0.0, 0.0, 0.0, 0.0, 1.0, 1.0, 1.0)\n",
    "    \n",
    "    ang += 0.006\n",
    "    draw_object(models_indexes[1], 0.0, 0.0, 1.0, 0.0, math.cos(ang)*17.0, math.sin(ang)*17.0, 0.0, 1.0, 1.0, 1.0, ka=1, kd=1, ks=1, ns=10000.0, emit_light = True)\n",
    "\n",
    "    draw_object(models_indexes[2], 0.0, 0.0, 1.0, 0.0, 0.0, 0.0, 0.0, 1.0, 1.0, 1.0)\n",
    "    draw_object(models_indexes[3], 0.0, 0.0, 1.0, 0.0, 0.0, 0.0, 0.0, 1.0, 1.0, 1.0)\n",
    "    draw_object(models_indexes[4], 0.0, 0.0, 1.0, 0.0, 0.0, 0.0, 0.0, 1.0, 1.0, 1.0)\n",
    "    \n",
    "    draw_object(models_indexes[5], 0.0, 0.0, 1.0, 0.0, 0.0, 0.0, 0.0, 1.0, 1.0, 1.0)\n",
    "    draw_object(models_indexes[6], 0.0, 0.0, 1.0, 0.0, 0.0, 0.0, 0.0, 1.0, 1.0, 1.0)\n",
    "    draw_object(models_indexes[7], 0.0, 0.0, 1.0, 0.0, 0.0, 0.0, 0.0, 1.0, 1.0, 1.0)\n",
    "    \n",
    "    draw_object(models_indexes[8], 0.0, 0.0, 1.0, 0.0, 0.0, 0.0, 0.0, 1.0, 1.0, 1.0)\n",
    "    draw_object(models_indexes[9], 0.0, 0.0, 1.0, 0.0, 0.0, 0.0, 0.0, 1.0, 1.0, 1.0)\n",
    "    \n",
    "    rotation += 0.5\n",
    "    draw_object(models_indexes[10], rotation, 0.0, 1.0, 0.0, -3.0, 1.4, 0.0, 0.1, 0.1, 0.1)\n",
    "    \n",
    "    mat_view = view()\n",
    "    loc_view = glGetUniformLocation(program, \"view\")\n",
    "    glUniformMatrix4fv(loc_view, 1, GL_TRUE, mat_view)\n",
    "\n",
    "    mat_projection = projection()\n",
    "    loc_projection = glGetUniformLocation(program, \"projection\")\n",
    "    glUniformMatrix4fv(loc_projection, 1, GL_TRUE, mat_projection)    \n",
    "    \n",
    "    # Atualizando a posicao da camera/observador na GPU para calculo da reflexao especular\n",
    "    loc_view_pos = glGetUniformLocation(program, \"viewPos\") # Recuperando localizacao da variavel viewPos na GPU\n",
    "    glUniform3f(loc_view_pos, cameraPos[0], cameraPos[1], cameraPos[2]) # Posicao da camera/observador (x,y,z)\n",
    "    \n",
    "    glfw.swap_buffers(window)\n",
    "\n",
    "glfw.terminate()"
   ]
  }
 ],
 "metadata": {
  "finalized": {
   "timestamp": 1589232864147,
   "trusted": true
  },
  "kernelspec": {
   "display_name": "Python 3 (ipykernel)",
   "language": "python",
   "name": "python3"
  },
  "language_info": {
   "codemirror_mode": {
    "name": "ipython",
    "version": 3
   },
   "file_extension": ".py",
   "mimetype": "text/x-python",
   "name": "python",
   "nbconvert_exporter": "python",
   "pygments_lexer": "ipython3",
   "version": "3.10.9"
  }
 },
 "nbformat": 4,
 "nbformat_minor": 2
}
